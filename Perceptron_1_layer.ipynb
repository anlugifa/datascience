{
  "nbformat": 4,
  "nbformat_minor": 0,
  "metadata": {
    "colab": {
      "name": "Perceptron 1 layer.ipynb",
      "provenance": [],
      "collapsed_sections": [],
      "authorship_tag": "ABX9TyMtaLsKujRfbwJs+fcnqH2N",
      "include_colab_link": true
    },
    "kernelspec": {
      "name": "python3",
      "display_name": "Python 3"
    },
    "language_info": {
      "name": "python"
    }
  },
  "cells": [
    {
      "cell_type": "markdown",
      "metadata": {
        "id": "view-in-github",
        "colab_type": "text"
      },
      "source": [
        "<a href=\"https://colab.research.google.com/github/anlugifa/datascience/blob/main/Perceptron_1_layer.ipynb\" target=\"_parent\"><img src=\"https://colab.research.google.com/assets/colab-badge.svg\" alt=\"Open In Colab\"/></a>"
      ]
    },
    {
      "cell_type": "code",
      "metadata": {
        "id": "bL3d41q209YB"
      },
      "source": [
        "#Perceptron\n",
        "\n",
        "inputs = [1, 9, 5];\n",
        "pesos = [0.8, 0.1, 0];\n",
        "\n",
        "def soma(e, p)\n",
        "  s = 0\n",
        "  for i in range(e.len())\n",
        "    s += e[i] * p[i]\n",
        "\n",
        "  return s"
      ],
      "execution_count": null,
      "outputs": []
    }
  ]
}